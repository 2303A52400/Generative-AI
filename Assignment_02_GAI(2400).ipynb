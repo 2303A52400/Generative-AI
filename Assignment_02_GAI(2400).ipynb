{
  "nbformat": 4,
  "nbformat_minor": 0,
  "metadata": {
    "colab": {
      "provenance": [],
      "authorship_tag": "ABX9TyMItcxO6VXW+MpbFM32a65w",
      "include_colab_link": true
    },
    "kernelspec": {
      "name": "python3",
      "display_name": "Python 3"
    },
    "language_info": {
      "name": "python"
    }
  },
  "cells": [
    {
      "cell_type": "markdown",
      "metadata": {
        "id": "view-in-github",
        "colab_type": "text"
      },
      "source": [
        "<a href=\"https://colab.research.google.com/github/2303A52400/Generative-AI/blob/main/Assignment_02_GAI(2400).ipynb\" target=\"_parent\"><img src=\"https://colab.research.google.com/assets/colab-badge.svg\" alt=\"Open In Colab\"/></a>"
      ]
    },
    {
      "cell_type": "code",
      "execution_count": null,
      "metadata": {
        "id": "mTPa6kYgz66e"
      },
      "outputs": [],
      "source": [
        "D. Vidhu Sree\n",
        "2303A52400"
      ]
    },
    {
      "cell_type": "markdown",
      "source": [
        "Question 1"
      ],
      "metadata": {
        "id": "uxf7iYVc021s"
      }
    },
    {
      "cell_type": "code",
      "source": [
        "from scipy.optimize import linprog\n",
        "c = [-6, -5]\n",
        "A_ub = [\n",
        "    [1, 1],\n",
        "    [3, 2]\n",
        "]\n",
        "b_ub = [5, 12]\n",
        "x_bounds = (0, None)\n",
        "y_bounds = (0, None)\n",
        "result = linprog(c, A_ub=A_ub, b_ub=b_ub, bounds=[x_bounds, y_bounds], method=\"highs\")\n",
        "if result.success:\n",
        "    print(f\"Optimal number of A to produce: {result.x[0]:.2f}\")\n",
        "    print(f\"Optimal number of B to produce: {result.x[1]:.2f}\")\n",
        "    print(f\"Maximum Profit: {-result.fun:.2f}\")\n",
        "else:\n",
        "    print(\"Optimization failed:\", result.message)\n",
        "\n"
      ],
      "metadata": {
        "colab": {
          "base_uri": "https://localhost:8080/"
        },
        "id": "w_UnzQYf0xrA",
        "outputId": "885a9c73-a141-4103-828e-ccd2c4d6794d"
      },
      "execution_count": 3,
      "outputs": [
        {
          "output_type": "stream",
          "name": "stdout",
          "text": [
            "Optimal number of A to produce: 2.00\n",
            "Optimal number of B to produce: 3.00\n",
            "Maximum Profit: 27.00\n"
          ]
        }
      ]
    },
    {
      "cell_type": "markdown",
      "source": [
        "Question 2"
      ],
      "metadata": {
        "id": "HR7qwwUL03wC"
      }
    },
    {
      "cell_type": "code",
      "source": [
        "from scipy.optimize import linprog\n",
        "c = [-50, -120]\n",
        "A_ub = [\n",
        "    [1, 1],\n",
        "    [7000, 2000],\n",
        "    [10, 30]\n",
        "]\n",
        "b_ub = [110, 700000, 1200]\n",
        "x_bounds = (0, None)\n",
        "y_bounds = (0, None)\n",
        "result = linprog(c, A_ub=A_ub, b_ub=b_ub, bounds=[x_bounds, y_bounds], method=\"highs\")\n",
        "if result.success:\n",
        "     print(f\"Optimal hectares of wheat to plant: {result.x[0]:.2f}\")\n",
        "     print(f\"Optimal hectares of barley to plant: {result.x[1]:.2f}\")\n",
        "     print(f\"Maximum profit: {-result.fun:.2f}\")\n",
        "else:\n",
        "     print(\"Optimization failed:\", result.message)\n",
        "\n",
        "\n"
      ],
      "metadata": {
        "colab": {
          "base_uri": "https://localhost:8080/"
        },
        "id": "q1MvapXk0tmw",
        "outputId": "f243be17-1d8a-4b1e-8ef7-37cff8c330fc"
      },
      "execution_count": 2,
      "outputs": [
        {
          "output_type": "stream",
          "name": "stdout",
          "text": [
            "Optimal hectares of wheat to plant: 97.89\n",
            "Optimal hectares of barley to plant: 7.37\n",
            "Maximum profit: 5778.95\n"
          ]
        }
      ]
    }
  ]
}